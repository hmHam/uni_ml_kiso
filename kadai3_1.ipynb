{
 "cells": [
  {
   "cell_type": "markdown",
   "id": "3a6146cb-fb2c-419a-aaa6-fb8c117e84f8",
   "metadata": {},
   "source": [
    "# 機械学習とデータマイニングの基礎 第3回 レポート課題"
   ]
  },
  {
   "cell_type": "markdown",
   "id": "70bfd4f8-6f0d-4e65-b52d-d0ea83887fd7",
   "metadata": {},
   "source": [
    "### 実験条件\n",
    "* コインが1000枚ある。n回ずつ独立に投げて「表」か「裏」かを記録しておく。\n",
    "* 1000枚のコインの裏表をベルヌーイ確率変数$C_1, C_2, \\dots, C_{1000}$で表す。「表」を1, 「裏」を0とする。\n",
    "* j番目のコインをn回投げた際、それぞれの回で出た目を$C_j(1), \\dots, C_j(n)$と表す。\n",
    "* 投げた回数にしめる「表」の割合を$\\hat{C}_j = \\frac{1}{n} \\sum_{i = 1}^n C_j(i)$とする。\n",
    "* $n = 10$とする。\n",
    "\n",
    "##### 備考\n",
    "* すべてのコインをn回ずつ投げるまでの一連の作業を「１試行」とする。"
   ]
  },
  {
   "cell_type": "code",
   "execution_count": 1,
   "id": "6336400d-4ebd-48f2-a8f2-af744bcc0628",
   "metadata": {},
   "outputs": [],
   "source": [
    "import numpy as np\n",
    "from matplotlib import pyplot as plt\n",
    "from tqdm.notebook import tqdm"
   ]
  },
  {
   "cell_type": "code",
   "execution_count": 2,
   "id": "2655a123-62b7-45be-928c-239052bc44c4",
   "metadata": {},
   "outputs": [],
   "source": [
    "# コインの「表」が出る確率\n",
    "THETA = 0.5"
   ]
  },
  {
   "cell_type": "markdown",
   "id": "ad9229a6-df10-4bac-a8fe-30cd28323df2",
   "metadata": {},
   "source": [
    "***"
   ]
  },
  {
   "cell_type": "markdown",
   "id": "7b118753-d3d1-4f6b-b6ae-b50d4b901405",
   "metadata": {},
   "source": [
    "### 問題1\n",
    "乱数を発生させて,先述の実験を 10 万試行分,実施すること"
   ]
  },
  {
   "cell_type": "markdown",
   "id": "e1b0d8bf-a747-425e-b607-54b40a06ae8f",
   "metadata": {},
   "source": [
    "### 回答\n",
    "1試行は以下のようなone_trial関数のように実装した。  \n",
    "本演習は確率変数がヘフディングの不等式に従う場合と従わない場合の数値シュミレーションを実現できればよいので、全てのコインが1を取る確率(講義資料のパラメータ$\\theta$)は$0.5$を採用した。\n",
    "\n",
    "また、指定された通り、このone_trial関数を10万試行分実施した。"
   ]
  },
  {
   "cell_type": "code",
   "execution_count": 3,
   "id": "e5e8c827-c3c6-487d-88d0-56bf1d21ec81",
   "metadata": {},
   "outputs": [],
   "source": [
    "def one_trial(n, coin_num=1000, random_state=0, verbose=True):\n",
    "    '''\n",
    "    coin_num枚のコインをn回投げる操作をした後\n",
    "    それぞれのコインにおいて、n回中「表」が出た割合の配列を返す\n",
    "    '''    \n",
    "    np.random.seed(random_state)\n",
    "    C_samples = np.random.binomial(n=1, p=THETA, size=(n, coin_num))  # それぞれのコインを同時に10回投げる\n",
    "    C_hat = C_samples.mean(axis=0)  # 「表」が出た割合を求めて記録\n",
    "\n",
    "    if verbose:\n",
    "        print('shape of C: ', C_hat.shape)\n",
    "    return C_hat"
   ]
  },
  {
   "cell_type": "code",
   "execution_count": 4,
   "id": "05bb733f-eacd-426c-afe3-57e3ae15d6e8",
   "metadata": {},
   "outputs": [
    {
     "name": "stdout",
     "output_type": "stream",
     "text": [
      "shape of C:  (1000,)\n"
     ]
    }
   ],
   "source": [
    "one_trial(n=10);"
   ]
  },
  {
   "cell_type": "code",
   "execution_count": 5,
   "id": "b190de5d-6fb7-4e35-b795-3b727bf198b8",
   "metadata": {},
   "outputs": [
    {
     "data": {
      "application/vnd.jupyter.widget-view+json": {
       "model_id": "",
       "version_major": 2,
       "version_minor": 0
      },
      "text/plain": [
       "  0%|          | 0/100000 [00:00<?, ?it/s]"
      ]
     },
     "metadata": {},
     "output_type": "display_data"
    }
   ],
   "source": [
    "for _ in tqdm(range(pow(10, 5)), leave=False):\n",
    "    one_trial(n=10, verbose=False);"
   ]
  },
  {
   "cell_type": "markdown",
   "id": "6fd27afc-31d4-428d-ae7b-e0bea6dc6400",
   "metadata": {},
   "source": [
    "***"
   ]
  },
  {
   "cell_type": "markdown",
   "id": "c56ea6c7-4cbd-4c0d-a437-a1231f3d1a28",
   "metadata": {},
   "source": [
    "### 問題2\n",
    "試行ごとに,次の 3 種類のコインの表の割合($\\hat{C}$)を記録しておくこと.\n",
    "* $C_1$: 1番目のコイン\n",
    "* $C_{rand}$:無作為に選んだコイン\n",
    "* $C_{min}$:全コインのなかで,表の数がもっとも少なかったコイン"
   ]
  },
  {
   "cell_type": "markdown",
   "id": "eedf7a99-32d1-45ba-ade0-18fb002c6fe9",
   "metadata": {},
   "source": [
    "### 回答\n",
    "以下のように実装した。"
   ]
  },
  {
   "cell_type": "code",
   "execution_count": 6,
   "id": "b921fe31-15e6-4d38-871e-dcb15c50bc49",
   "metadata": {},
   "outputs": [],
   "source": [
    "def do_whole_trial(T, n):\n",
    "    '''1000枚のコインに対しn回コインを投げる試行(1試行)をT回行う\n",
    "    '''\n",
    "    C1_history = []\n",
    "    C_rand_history = []\n",
    "    C_min_history = []\n",
    "    for i in tqdm(range(T), leave=False):\n",
    "        # (1試行を行う) n回投げる操作を1000枚のコインに対し行う\n",
    "        C_hat = one_trial(n=n, random_state=i, verbose=False)\n",
    "        # 1番目のコインの「表」の割合を記録\n",
    "        C1_history.append(C_hat[0])\n",
    "\n",
    "        # 無作為に選んだコインの「表」の割合を記録\n",
    "        np.random.seed(i)\n",
    "        j_rand = np.random.randint(C_hat.shape[0])\n",
    "        C_rand_history.append(C_hat[j_rand])\n",
    "\n",
    "        # 「表」の数が最も出なかったコインの「表」の割合を記録\n",
    "        j_min = np.argmin(C_hat)\n",
    "        C_min_history.append(C_hat[j_min])\n",
    "    C1_history_array = np.array(C1_history)\n",
    "    C_rand_history_array = np.array(C_rand_history)\n",
    "    C_min_history_array = np.array(C_min_history)\n",
    "    return C1_history_array, C_rand_history_array, C_min_history_array"
   ]
  },
  {
   "cell_type": "code",
   "execution_count": 7,
   "id": "f3b38a86-af5d-46d4-8833-3725597869de",
   "metadata": {},
   "outputs": [
    {
     "data": {
      "application/vnd.jupyter.widget-view+json": {
       "model_id": "",
       "version_major": 2,
       "version_minor": 0
      },
      "text/plain": [
       "  0%|          | 0/100000 [00:00<?, ?it/s]"
      ]
     },
     "metadata": {},
     "output_type": "display_data"
    }
   ],
   "source": [
    "n10_C1_T, n10_C_rand_T, n10_C_min_T = do_whole_trial(T=pow(10, 5), n=10)"
   ]
  },
  {
   "cell_type": "markdown",
   "id": "6d1f9e2f-9a0f-40da-8bae-e2444245a85b",
   "metadata": {},
   "source": [
    "***"
   ]
  },
  {
   "cell_type": "markdown",
   "id": "8a0c6d42-72a5-43f9-a7e7-715149dec871",
   "metadata": {},
   "source": [
    "### 問題3\n",
    "上記の結果として,$C_1$ と $C_{rand}$ と $C_{min}$それぞれ,10万点からなるデータセットが得られる.そ\n",
    "の分布をヒストグラムで可視化すること\n",
    "\n",
    "### 回答\n",
    "セル[8]の出力のように、問題2で得られたデータセットをmatplotlib.pyplot.histを用いて可視化した。左から順に$C_1, C_{rand}, C_{min}$の結果を表している。  \n",
    "$C_1$と$C_{rand}$の図を比較すると、おおむね同一のヒストグラムとなっていることが読み取れる。  \n",
    "実際これは、全く同じヒストグラムである。なぜなら、全てのコインは同一の分布を持つコインであるため、無作為に選出した$C_{rand}$のコインは$C_1$と全く同じ性質を持つからである。  \n",
    "\n",
    "一方で、$C_{min}$のコインの結果は、他のコインよりも分布が小さい値に集中していることが読み取れる。  \n",
    "これは、$C_{min}$が1試行のコインの中で出た「表」の割合から、最も小さい値を持つコインの結果のみを集めて来たことに起因する。  \n",
    "$C_{min}$がどのように$C_1, C_{rand}$と異なるかについては、問題4の回答で触れる。"
   ]
  },
  {
   "cell_type": "code",
   "execution_count": 8,
   "id": "1b62cf84-a180-4e79-8793-f41831a0e734",
   "metadata": {},
   "outputs": [
    {
     "data": {
      "image/png": "[encoded data removed]",
      "text/plain": [
       "<Figure size 1296x432 with 3 Axes>"
      ]
     },
     "metadata": {
      "needs_background": "light"
     },
     "output_type": "display_data"
    }
   ],
   "source": [
    "fig, axes = plt.subplots(1, 3, figsize=(18, 6))\n",
    "bins = np.linspace(0, 1, 10)\n",
    "\n",
    "ax1 = axes[0]\n",
    "ax1.set_title('mean rate of first coin')\n",
    "ax1.hist(n10_C1_T, bins=bins)\n",
    "\n",
    "ax_rand = axes[1]\n",
    "ax_rand.set_title('mean rate of randomly selected coin')\n",
    "ax_rand.hist(n10_C_rand_T, bins=bins)\n",
    "\n",
    "ax_min = axes[2]\n",
    "ax_min.set_title('mean rate of minimum rate coin')\n",
    "ax_min.hist(n10_C_min_T, bins=bins)\n",
    "plt.show()"
   ]
  },
  {
   "cell_type": "markdown",
   "id": "629ba9b3-98b6-4795-9b42-b88fb59901cc",
   "metadata": {},
   "source": [
    "***"
   ]
  },
  {
   "cell_type": "markdown",
   "id": "554d8aab-64bc-4a15-8103-97c2869e9d3f",
   "metadata": {},
   "source": [
    "### 問題4\n",
    "この 3 種類のコインそれぞれに対して:\n",
    "* A. $P\\{|Cb − E[C]| > \\epsilon\\}$を近似し,ε の関数としてそのグラフを描くこと.\n",
    "* B. 同じプロットにおいて,Hoeffding の上界である $2\\exp{−2\\epsilon^2n}$のグラフも併せて表示すること.\n",
    "* C. Hoeffding の不等式に従うコインと従わないコインはどれか.従わないコインはなぜ従わないか自分の言葉で説明すること.\n",
    "\n",
    "### 回答\n",
    "3種類のコインにそれぞれに対して$P\\{|\\hat{C} − E[C]| > \\epsilon\\}$を近似した結果とHoeffdingの上界を図示した結果がセル[13]の図である。左から順に$C_1, C_{rand}, C_{min}$である。 \n",
    "$E[C]$は\n",
    "この結果から、Hoeffdingの不等式に従わないコインは以下の一番右の図から読み取れる通り$C_{min}$である。  \n",
    "\n",
    "これは、ヘフディングの不等式は、独立な確率変数$X$に対する上界である一方で、$u$番目の試行の$C_{min}^{(u)}$と$v$番目の試行の$C_{min}^{(v)}$は独立な確率変数ではないからである($1 \\le u, v \\le 1000$とする)。  \n",
    "なぜなら、どちらも「パラメータ$\\theta = 0.5$のベルヌーイ分布に従う1000枚のコインを投げた際に出る最も小さい値」という関係を持っているからである。これは、講義中に扱った、データセットから学習アルゴリズムによって候補に関する損失を表す確率変数が互いに独立にならないのと同じである。どちらも、試行を行ったあとでしか確率変数の値が決まらないという性質を持った変数である。この点で、$C_1, C_{rand}$とは異なる。"
   ]
  },
  {
   "cell_type": "code",
   "execution_count": 12,
   "id": "d4ba8cac-9e82-4808-8ea6-6beb7941a6f6",
   "metadata": {},
   "outputs": [],
   "source": [
    "def get_hoeffding_bound(n, epsilon):\n",
    "    '''\n",
    "    n: サンプルサイズ\n",
    "    epsilon: 誤差\n",
    "    '''\n",
    "    return 2 * np.exp(- 2 * epsilon**2 * n)\n",
    "\n",
    "def see_error_vs_hoeffding_bound_figure(C1_T, C_rand_T, C_min_T, n):\n",
    "    C_Ts = [C1_T, C_rand_T, C_min_T]\n",
    "    titles = ['$C_1$ coin', '$C_{rand}$ coin', '$C_{min}$ coin']\n",
    "    epsilons = np.linspace(0, 1, 10000)\n",
    "    hoeffding_bounds = [get_hoeffding_bound(n=n, epsilon=eps) for eps in epsilons]\n",
    "\n",
    "    fig, axes = plt.subplots(1, 3, figsize=(18, 6))\n",
    "    fig.suptitle('probability of error between estimand and truth vs hoeffding\\'s bound')\n",
    "\n",
    "    for i, C_T in enumerate(C_Ts):\n",
    "        p_eps_list = []\n",
    "\n",
    "        for eps in epsilons:\n",
    "            # NOTE: Cはベルヌーイ変数のためE[C] = THETA\n",
    "            p_hat = np.mean(np.abs(C_T - THETA) > eps)  # Cの推定値が期待値からepsilonずれる確率をサンプルから推定\n",
    "            p_eps_list.append(p_hat)\n",
    "        axes[i].set_title(titles[i])\n",
    "        axes[i].plot(epsilons, p_eps_list, label='error between estimand and truth')\n",
    "        axes[i].plot(epsilons, hoeffding_bounds, label='hoeffding bound')\n",
    "    plt.legend()\n",
    "    plt.show()"
   ]
  },
  {
   "cell_type": "code",
   "execution_count": 13,
   "id": "4f799ad4-0fd8-481b-9c64-01bbb1ed4dd0",
   "metadata": {},
   "outputs": [
    {
     "data": {
      "image/png": "[encoded data removed]",
      "text/plain": [
       "<Figure size 1296x432 with 3 Axes>"
      ]
     },
     "metadata": {
      "needs_background": "light"
     },
     "output_type": "display_data"
    }
   ],
   "source": [
    "see_error_vs_hoeffding_bound_figure(n10_C1_T, n10_C_rand_T, n10_C_min_T, n=10)"
   ]
  },
  {
   "cell_type": "markdown",
   "id": "bcd475ae-b937-4a7a-aeb8-034376e6f292",
   "metadata": {},
   "source": [
    "***\n",
    "### 課題5\n",
    "標本数n(コインを投げる回数) を大幅に増やしてみること (n = 500 など).$C_{min}$ の分布が n = 10\n",
    "のときと比べて,どのように変わるか.それはなぜか.\n",
    "\n",
    "### 回答\n",
    "$n=500$とした結果がセル[8]のヒストグラムである。$n=500$の場合のの方が$n=10$のときと比べて、$C_{min}$の分布が正の方向に大きくシフトした。  \n",
    "これは、1試行における$j$番目のコインを$n$回投げた結果$C_j(1), C_j(2), \\dots$とその標本平均である$\\hat{C}_j$が、以下の中心極限定理に従うからである。つまり、$n$が増えるにつれて、$\\hat{C}_j$は$E[C] = \\theta = 0.5, Var[C] = \\theta (1 - \\theta) = 0.025$の正規分布に近づく。\n",
    "\n",
    "よって、$n$が増えるにつれて各試行の結果が$0.5$付近に集中するため、各試行での最小の値を集めた$C_{min}$も$0.5$に左から近づくことになる。これが、$C_{min}$の分布が正の方向に大きくシフトした理由である。"
   ]
  },
  {
   "cell_type": "markdown",
   "id": "7ae2cc04-c5ed-4dcb-bea0-9d00b5cdcf76",
   "metadata": {},
   "source": [
    "#### 中心極限定理\n",
    "確率変数列$X_1, X_2, \\dots$はi.i.dで平均$\\mu = E[X_1]$と分散$\\sigma^2 = Var[X_1]$が存在するとする. このとき、以下の分布収束が成り立つ.  \n",
    "$\\qquad \\qquad \\sqrt{n}(\\bar{X_n} - \\mu) \\overset{d}{\\to} N(0, \\sigma^2) \\quad (n \\to \\infty)$  \n",
    "ただし、$N(0, \\sigma^2)$は平均$0$, 分散$\\sigma^2$の正規分布に従う確率変数である。"
   ]
  },
  {
   "cell_type": "code",
   "execution_count": 7,
   "id": "a8b414ef-ad58-4dda-a3ba-e1c5505d8451",
   "metadata": {},
   "outputs": [
    {
     "data": {
      "application/vnd.jupyter.widget-view+json": {
       "model_id": "",
       "version_major": 2,
       "version_minor": 0
      },
      "text/plain": [
       "  0%|          | 0/100000 [00:00<?, ?it/s]"
      ]
     },
     "metadata": {},
     "output_type": "display_data"
    }
   ],
   "source": [
    "_, _, n500_C_min_T = do_whole_trial(T=pow(10, 5), n=500)"
   ]
  },
  {
   "cell_type": "code",
   "execution_count": 8,
   "id": "7d9ed30b-c5b5-44cc-a0ef-7d738f72e6fe",
   "metadata": {},
   "outputs": [
    {
     "data": {
      "image/png": "[encoded data removed]",
      "text/plain": [
       "<Figure size 432x288 with 1 Axes>"
      ]
     },
     "metadata": {
      "needs_background": "light"
     },
     "output_type": "display_data"
    }
   ],
   "source": [
    "fig = plt.figure()\n",
    "ax_min = fig.add_subplot()\n",
    "ax_min.set_title('mean rate of minimum rate coin')\n",
    "ax_min.hist(n500_C_min_T, bins=np.linspace(0, 1, 10))\n",
    "plt.show()"
   ]
  }
 ],
 "metadata": {
  "kernelspec": {
   "display_name": "Python 3",
   "language": "python",
   "name": "python3"
  },
  "language_info": {
   "codemirror_mode": {
    "name": "ipython",
    "version": 3
   },
   "file_extension": ".py",
   "mimetype": "text/x-python",
   "name": "python",
   "nbconvert_exporter": "python",
   "pygments_lexer": "ipython3",
   "version": "3.7.3"
  }
 },
 "nbformat": 4,
 "nbformat_minor": 5
}
